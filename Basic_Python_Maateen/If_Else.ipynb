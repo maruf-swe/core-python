{
 "cells": [
  {
   "cell_type": "code",
   "execution_count": 3,
   "metadata": {},
   "outputs": [
    {
     "name": "stdout",
     "output_type": "stream",
     "text": [
      "20 is greter than 15\n"
     ]
    }
   ],
   "source": [
    "m=15\n",
    "if m<20:\n",
    "    print(\"20 is greter than 15\")\n",
    "else:\n",
    "    print(\"15 is grater\")"
   ]
  },
  {
   "cell_type": "code",
   "execution_count": 4,
   "metadata": {},
   "outputs": [
    {
     "name": "stdout",
     "output_type": "stream",
     "text": [
      "10\n",
      "m is equal to 10\n"
     ]
    }
   ],
   "source": [
    "m=int(input())\n",
    "if m==10:\n",
    "    print(\"m is equal to 10\")\n",
    "elif m<10:\n",
    "    print(\"m is less then 10\")\n",
    "elif m>10 and m<20:\n",
    "    print(\"m is grater then 10\")\n",
    "else:\n",
    "    print(\"m is grater then 20\")\n",
    "    "
   ]
  },
  {
   "cell_type": "code",
   "execution_count": 5,
   "metadata": {},
   "outputs": [
    {
     "name": "stdout",
     "output_type": "stream",
     "text": [
      "25\n",
      "m is grater then 20\n"
     ]
    }
   ],
   "source": [
    "m=int(input())\n",
    "if m==10:\n",
    "    print(\"m is equal to 10\")\n",
    "elif m<10:\n",
    "    print(\"m is less then 10\")\n",
    "elif m>10 and m<20:\n",
    "    print(\"m is grater then 10\")\n",
    "else:\n",
    "    print(\"m is grater then 20\")"
   ]
  },
  {
   "cell_type": "code",
   "execution_count": 7,
   "metadata": {},
   "outputs": [
    {
     "name": "stdout",
     "output_type": "stream",
     "text": [
      "20\n",
      "no\n"
     ]
    }
   ],
   "source": [
    "number=int(input())\n",
    "if number%3==0 and number%5==0:\n",
    "    print(\"Yes\")\n",
    "else:\n",
    "    print(\"no\")"
   ]
  },
  {
   "cell_type": "code",
   "execution_count": 8,
   "metadata": {},
   "outputs": [
    {
     "name": "stdout",
     "output_type": "stream",
     "text": [
      "45\n",
      "Yes\n"
     ]
    }
   ],
   "source": [
    "number=int(input())\n",
    "if number%3==0 and number%5==0:\n",
    "    print(\"Yes\")\n",
    "else:\n",
    "    print(\"no\")"
   ]
  },
  {
   "cell_type": "code",
   "execution_count": 10,
   "metadata": {},
   "outputs": [
    {
     "name": "stdout",
     "output_type": "stream",
     "text": [
      "4\n",
      "this is possitive\n"
     ]
    }
   ],
   "source": [
    "num=int(input())\n",
    "if num>0:\n",
    "    print(\"this is possitive\")\n",
    "elif num<0:\n",
    "    print(\"this is neg\")\n",
    "else:\n",
    "    print(\"this is zero\")"
   ]
  },
  {
   "cell_type": "code",
   "execution_count": 11,
   "metadata": {},
   "outputs": [
    {
     "name": "stdout",
     "output_type": "stream",
     "text": [
      "0\n",
      "this is zero\n"
     ]
    }
   ],
   "source": [
    "num=int(input())\n",
    "if num>0:\n",
    "    print(\"this is possitive\")\n",
    "elif num<0:\n",
    "    print(\"this is neg\")\n",
    "else:\n",
    "    print(\"this is zero\")"
   ]
  },
  {
   "cell_type": "code",
   "execution_count": null,
   "metadata": {},
   "outputs": [],
   "source": []
  }
 ],
 "metadata": {
  "kernelspec": {
   "display_name": "Python 3",
   "language": "python",
   "name": "python3"
  },
  "language_info": {
   "codemirror_mode": {
    "name": "ipython",
    "version": 3
   },
   "file_extension": ".py",
   "mimetype": "text/x-python",
   "name": "python",
   "nbconvert_exporter": "python",
   "pygments_lexer": "ipython3",
   "version": "3.7.3"
  }
 },
 "nbformat": 4,
 "nbformat_minor": 2
}
