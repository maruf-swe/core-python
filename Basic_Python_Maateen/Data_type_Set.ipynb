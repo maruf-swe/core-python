{
 "cells": [
  {
   "cell_type": "code",
   "execution_count": 1,
   "metadata": {},
   "outputs": [
    {
     "data": {
      "text/plain": [
       "{1220, 'Esha', 'Maruf Ahmed', 'Tonesha', 'ahmed', 'maruf', 'ridoy'}"
      ]
     },
     "execution_count": 1,
     "metadata": {},
     "output_type": "execute_result"
    }
   ],
   "source": [
    "m={'maruf', 'ridoy', 'ahmed', 'Maruf Ahmed', 'Esha', 1220, 'Tonesha'}\n",
    "m"
   ]
  },
  {
   "cell_type": "code",
   "execution_count": 2,
   "metadata": {},
   "outputs": [
    {
     "data": {
      "text/plain": [
       "set"
      ]
     },
     "execution_count": 2,
     "metadata": {},
     "output_type": "execute_result"
    }
   ],
   "source": [
    "type(m)"
   ]
  },
  {
   "cell_type": "code",
   "execution_count": 3,
   "metadata": {},
   "outputs": [],
   "source": [
    "m={1220, 'Esha', 'Maruf Ahmed', 'Tonesha', 'ahmed', 'maruf', 'ridoy','maruf','ridoy'}"
   ]
  },
  {
   "cell_type": "code",
   "execution_count": 4,
   "metadata": {},
   "outputs": [
    {
     "data": {
      "text/plain": [
       "{1220, 'Esha', 'Maruf Ahmed', 'Tonesha', 'ahmed', 'maruf', 'ridoy'}"
      ]
     },
     "execution_count": 4,
     "metadata": {},
     "output_type": "execute_result"
    }
   ],
   "source": [
    "m"
   ]
  },
  {
   "cell_type": "code",
   "execution_count": 5,
   "metadata": {},
   "outputs": [],
   "source": [
    "m.add('Nisa')"
   ]
  },
  {
   "cell_type": "code",
   "execution_count": 6,
   "metadata": {},
   "outputs": [
    {
     "data": {
      "text/plain": [
       "{1220, 'Esha', 'Maruf Ahmed', 'Nisa', 'Tonesha', 'ahmed', 'maruf', 'ridoy'}"
      ]
     },
     "execution_count": 6,
     "metadata": {},
     "output_type": "execute_result"
    }
   ],
   "source": [
    "m"
   ]
  },
  {
   "cell_type": "code",
   "execution_count": 7,
   "metadata": {},
   "outputs": [],
   "source": [
    "m.update(\"mar\",\"ishu\")"
   ]
  },
  {
   "cell_type": "code",
   "execution_count": 8,
   "metadata": {},
   "outputs": [
    {
     "data": {
      "text/plain": [
       "{1220,\n",
       " 'Esha',\n",
       " 'Maruf Ahmed',\n",
       " 'Nisa',\n",
       " 'Tonesha',\n",
       " 'a',\n",
       " 'ahmed',\n",
       " 'h',\n",
       " 'i',\n",
       " 'm',\n",
       " 'maruf',\n",
       " 'r',\n",
       " 'ridoy',\n",
       " 's',\n",
       " 'u'}"
      ]
     },
     "execution_count": 8,
     "metadata": {},
     "output_type": "execute_result"
    }
   ],
   "source": [
    "m"
   ]
  },
  {
   "cell_type": "code",
   "execution_count": 9,
   "metadata": {},
   "outputs": [],
   "source": [
    "m.update({\"ishu\",\"nishu\"})"
   ]
  },
  {
   "cell_type": "code",
   "execution_count": 10,
   "metadata": {},
   "outputs": [
    {
     "data": {
      "text/plain": [
       "{1220,\n",
       " 'Esha',\n",
       " 'Maruf Ahmed',\n",
       " 'Nisa',\n",
       " 'Tonesha',\n",
       " 'a',\n",
       " 'ahmed',\n",
       " 'h',\n",
       " 'i',\n",
       " 'ishu',\n",
       " 'm',\n",
       " 'maruf',\n",
       " 'nishu',\n",
       " 'r',\n",
       " 'ridoy',\n",
       " 's',\n",
       " 'u'}"
      ]
     },
     "execution_count": 10,
     "metadata": {},
     "output_type": "execute_result"
    }
   ],
   "source": [
    "m"
   ]
  },
  {
   "cell_type": "code",
   "execution_count": 11,
   "metadata": {},
   "outputs": [
    {
     "data": {
      "text/plain": [
       "{1220,\n",
       " 'Esha',\n",
       " 'Maruf Ahmed',\n",
       " 'Nisa',\n",
       " 'Tonesha',\n",
       " 'a',\n",
       " 'ahmed',\n",
       " 'h',\n",
       " 'i',\n",
       " 'ishu',\n",
       " 'm',\n",
       " 'maruf',\n",
       " 'nishu',\n",
       " 'r',\n",
       " 'ridoy',\n",
       " 'u'}"
      ]
     },
     "execution_count": 11,
     "metadata": {},
     "output_type": "execute_result"
    }
   ],
   "source": [
    "m.remove(\"s\")\n",
    "m"
   ]
  },
  {
   "cell_type": "code",
   "execution_count": 12,
   "metadata": {},
   "outputs": [],
   "source": [
    "m.remove(\"u\")"
   ]
  },
  {
   "cell_type": "code",
   "execution_count": 13,
   "metadata": {},
   "outputs": [
    {
     "data": {
      "text/plain": [
       "{1220,\n",
       " 'Esha',\n",
       " 'Maruf Ahmed',\n",
       " 'Nisa',\n",
       " 'Tonesha',\n",
       " 'a',\n",
       " 'ahmed',\n",
       " 'h',\n",
       " 'i',\n",
       " 'ishu',\n",
       " 'm',\n",
       " 'maruf',\n",
       " 'nishu',\n",
       " 'r',\n",
       " 'ridoy'}"
      ]
     },
     "execution_count": 13,
     "metadata": {},
     "output_type": "execute_result"
    }
   ],
   "source": [
    "m"
   ]
  },
  {
   "cell_type": "code",
   "execution_count": 14,
   "metadata": {},
   "outputs": [
    {
     "data": {
      "text/plain": [
       "'Nisa'"
      ]
     },
     "execution_count": 14,
     "metadata": {},
     "output_type": "execute_result"
    }
   ],
   "source": [
    "m.pop()"
   ]
  },
  {
   "cell_type": "code",
   "execution_count": 15,
   "metadata": {},
   "outputs": [
    {
     "data": {
      "text/plain": [
       "{1220,\n",
       " 'Esha',\n",
       " 'Maruf Ahmed',\n",
       " 'Tonesha',\n",
       " 'a',\n",
       " 'ahmed',\n",
       " 'h',\n",
       " 'i',\n",
       " 'ishu',\n",
       " 'm',\n",
       " 'maruf',\n",
       " 'nishu',\n",
       " 'r',\n",
       " 'ridoy'}"
      ]
     },
     "execution_count": 15,
     "metadata": {},
     "output_type": "execute_result"
    }
   ],
   "source": [
    "m"
   ]
  },
  {
   "cell_type": "code",
   "execution_count": 16,
   "metadata": {},
   "outputs": [
    {
     "data": {
      "text/plain": [
       "'ahmed'"
      ]
     },
     "execution_count": 16,
     "metadata": {},
     "output_type": "execute_result"
    }
   ],
   "source": [
    "m.pop()"
   ]
  },
  {
   "cell_type": "code",
   "execution_count": 17,
   "metadata": {},
   "outputs": [
    {
     "data": {
      "text/plain": [
       "{1220,\n",
       " 'Esha',\n",
       " 'Maruf Ahmed',\n",
       " 'Tonesha',\n",
       " 'a',\n",
       " 'h',\n",
       " 'i',\n",
       " 'ishu',\n",
       " 'm',\n",
       " 'maruf',\n",
       " 'nishu',\n",
       " 'r',\n",
       " 'ridoy'}"
      ]
     },
     "execution_count": 17,
     "metadata": {},
     "output_type": "execute_result"
    }
   ],
   "source": [
    "m"
   ]
  },
  {
   "cell_type": "code",
   "execution_count": 18,
   "metadata": {},
   "outputs": [],
   "source": [
    "n={\"Ahmed munna\",\"ridoy\",\"Sohel\",\"Prapti\",\"ishu\",\"nisa\",\"mahi\"}"
   ]
  },
  {
   "cell_type": "code",
   "execution_count": 19,
   "metadata": {},
   "outputs": [
    {
     "data": {
      "text/plain": [
       "{'Ahmed munna', 'Prapti', 'Sohel', 'ishu', 'mahi', 'nisa', 'ridoy'}"
      ]
     },
     "execution_count": 19,
     "metadata": {},
     "output_type": "execute_result"
    }
   ],
   "source": [
    "n"
   ]
  },
  {
   "cell_type": "code",
   "execution_count": 20,
   "metadata": {},
   "outputs": [
    {
     "data": {
      "text/plain": [
       "{1220,\n",
       " 'Ahmed munna',\n",
       " 'Esha',\n",
       " 'Maruf Ahmed',\n",
       " 'Prapti',\n",
       " 'Sohel',\n",
       " 'Tonesha',\n",
       " 'a',\n",
       " 'h',\n",
       " 'i',\n",
       " 'ishu',\n",
       " 'm',\n",
       " 'mahi',\n",
       " 'maruf',\n",
       " 'nisa',\n",
       " 'nishu',\n",
       " 'r',\n",
       " 'ridoy'}"
      ]
     },
     "execution_count": 20,
     "metadata": {},
     "output_type": "execute_result"
    }
   ],
   "source": [
    "m.union(n)"
   ]
  },
  {
   "cell_type": "code",
   "execution_count": 21,
   "metadata": {},
   "outputs": [
    {
     "data": {
      "text/plain": [
       "{'ishu', 'ridoy'}"
      ]
     },
     "execution_count": 21,
     "metadata": {},
     "output_type": "execute_result"
    }
   ],
   "source": [
    "m.intersection(n)"
   ]
  },
  {
   "cell_type": "code",
   "execution_count": 22,
   "metadata": {},
   "outputs": [],
   "source": [
    "m.clear()"
   ]
  },
  {
   "cell_type": "code",
   "execution_count": 23,
   "metadata": {},
   "outputs": [
    {
     "data": {
      "text/plain": [
       "set()"
      ]
     },
     "execution_count": 23,
     "metadata": {},
     "output_type": "execute_result"
    }
   ],
   "source": [
    "m"
   ]
  },
  {
   "cell_type": "code",
   "execution_count": null,
   "metadata": {},
   "outputs": [],
   "source": []
  }
 ],
 "metadata": {
  "kernelspec": {
   "display_name": "Python 3",
   "language": "python",
   "name": "python3"
  },
  "language_info": {
   "codemirror_mode": {
    "name": "ipython",
    "version": 3
   },
   "file_extension": ".py",
   "mimetype": "text/x-python",
   "name": "python",
   "nbconvert_exporter": "python",
   "pygments_lexer": "ipython3",
   "version": "3.7.3"
  }
 },
 "nbformat": 4,
 "nbformat_minor": 2
}
