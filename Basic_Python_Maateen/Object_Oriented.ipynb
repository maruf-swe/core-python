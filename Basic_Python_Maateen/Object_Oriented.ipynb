{
 "cells": [
  {
   "cell_type": "code",
   "execution_count": 2,
   "metadata": {},
   "outputs": [
    {
     "name": "stdout",
     "output_type": "stream",
     "text": [
      "Lenevo\n",
      "58000 Black\n"
     ]
    }
   ],
   "source": [
    "class Laptop:      #class\n",
    "    def __init__(self,name,model,color,price):\n",
    "        self.name=name  #instance variable \n",
    "        self.model=model\n",
    "        self.color=color\n",
    "        self.price=price\n",
    "        \n",
    "L1=Laptop(\"Lenevo\",\"thinkpad e 560\",\"Black\",58000)  #L1 object\n",
    "print(L1.name)\n",
    "print(L1.price,L1.color)"
   ]
  },
  {
   "cell_type": "code",
   "execution_count": 5,
   "metadata": {},
   "outputs": [
    {
     "name": "stdout",
     "output_type": "stream",
     "text": [
      "Lenevo\n",
      "laptop\n"
     ]
    }
   ],
   "source": [
    "#global  variable\n",
    "\n",
    "class Laptop:\n",
    "    \n",
    "    name_all=\"laptop\"  #global\n",
    "    \n",
    "    def __init__(self,name,model,color,price):\n",
    "        self.name=name\n",
    "        self.model=model\n",
    "        self.color=color\n",
    "        self.price=price\n",
    "        \n",
    "L1=Laptop(\"Lenevo\",\"thinkpad e 560\",\"Black\",58000)\n",
    "print(L1.name)\n",
    "print(L1.name_all)\n"
   ]
  },
  {
   "cell_type": "code",
   "execution_count": 11,
   "metadata": {},
   "outputs": [
    {
     "name": "stdout",
     "output_type": "stream",
     "text": [
      "Lenevo\n",
      "10\n"
     ]
    }
   ],
   "source": [
    "#Local Variable\n",
    "\n",
    "class Laptop:\n",
    "    def __init__(self,name,model,color,price):\n",
    "        self.name=name\n",
    "        self.model=model\n",
    "        self.color=color\n",
    "        self.price=price\n",
    "        \n",
    "    def add(self):\n",
    "            a=5   #local variable\n",
    "            b=5   #local variable\n",
    "            return a+b\n",
    "L1=Laptop(\"Lenevo\",\"thinkpad e 560\",\"Black\",58000)\n",
    "print(L1.name)\n",
    "print(L1.add())"
   ]
  },
  {
   "cell_type": "code",
   "execution_count": 12,
   "metadata": {},
   "outputs": [
    {
     "name": "stdout",
     "output_type": "stream",
     "text": [
      "Brand name is Lenevo and model num thinkpad e 560 and price is 58000\n"
     ]
    }
   ],
   "source": [
    "#instance method \n",
    "\n",
    "class Laptop:\n",
    "    def __init__(self,name,model,color,price):\n",
    "        self.name=name\n",
    "        self.model=model\n",
    "        self.color=color\n",
    "        self.price=price\n",
    "        \n",
    "    def details(self):  #Instance method\n",
    "        return f\"Brand name is {self.name} and model num {self.model} and price is {self.price}\"\n",
    "        \n",
    "L1=Laptop(\"Lenevo\",\"thinkpad e 560\",\"Black\",58000)\n",
    "\n",
    "print(L1.details())"
   ]
  },
  {
   "cell_type": "code",
   "execution_count": 23,
   "metadata": {},
   "outputs": [
    {
     "name": "stdout",
     "output_type": "stream",
     "text": [
      "12.56\n"
     ]
    }
   ],
   "source": [
    "#global variable\n",
    "class circle():\n",
    "    \n",
    "    pi=3.14  #global\n",
    "    \n",
    "    def __init__(self,radius):\n",
    "        self.radius=radius       #radius is instance variable\n",
    "        \n",
    "    def cal_circle(self):\n",
    "        return circle.pi* self.radius                 # pi is class variable.for that claas name dot variable name  \n",
    "    \n",
    "c=circle(4)\n",
    "\n",
    "c1=circle(6)\n",
    "\n",
    "print(c.cal_circle())"
   ]
  },
  {
   "cell_type": "code",
   "execution_count": 25,
   "metadata": {},
   "outputs": [
    {
     "name": "stdout",
     "output_type": "stream",
     "text": [
      "{'radius': 5}\n"
     ]
    }
   ],
   "source": [
    "#global variable\n",
    "class circle():\n",
    "    \n",
    "    pi=3.14  #global\n",
    "    \n",
    "    def __init__(self,radius):\n",
    "        self.radius=radius\n",
    "        \n",
    "    def cal_circle(self,radius):\n",
    "        return cicle.pi* self.radius                 # pi is class variable.for that claas name dot variable name  \n",
    "c=circle(5)\n",
    "print(c.__dict__)"
   ]
  },
  {
   "cell_type": "code",
   "execution_count": 35,
   "metadata": {},
   "outputs": [
    {
     "name": "stdout",
     "output_type": "stream",
     "text": [
      "2\n"
     ]
    }
   ],
   "source": [
    "# count instance\n",
    "\n",
    "#global variable\n",
    "class circle():\n",
    "    \n",
    "    count_instance = 0\n",
    "    \n",
    "    def __init__(self,radius,pi):\n",
    "        circle.count_instance+=1\n",
    "        self.radius=radius\n",
    "        self.pi=pi\n",
    "        \n",
    "    def cal_circle(self,radius):\n",
    "        return self.pi* self.radius                 # pi is class variable.for that claas name dot variable name  \n",
    "    \n",
    "c=circle(4,3.14)\n",
    "c1=circle(5,3.14)\n",
    "print(circle.count_instance)\n"
   ]
  },
  {
   "cell_type": "code",
   "execution_count": 44,
   "metadata": {},
   "outputs": [
    {
     "name": "stdout",
     "output_type": "stream",
     "text": [
      "u have created 2 of Circle class\n"
     ]
    }
   ],
   "source": [
    "#class method\n",
    "\n",
    "class circle():\n",
    "    \n",
    "    count_instance = 0\n",
    "    \n",
    "    def __init__(self,radius,pi):\n",
    "        circle.count_instance+=1\n",
    "        self.radius=radius\n",
    "        self.pi=pi\n",
    "        \n",
    "    @classmethod\n",
    "    def count_inst(cls):\n",
    "        return f\"u have created {cls.count_instance} instences of Circle class\"\n",
    "        \n",
    "    def cal_circle(self,radius):\n",
    "        return self.pi* self.radius\n",
    "    \n",
    "   \n",
    "    \n",
    "c=circle(4,3.14)\n",
    "c1=circle(5,3.14)\n",
    "print(circle.count_inst())"
   ]
  },
  {
   "cell_type": "code",
   "execution_count": 52,
   "metadata": {},
   "outputs": [
    {
     "name": "stdout",
     "output_type": "stream",
     "text": [
      "static method is called\n"
     ]
    }
   ],
   "source": [
    "class circle():\n",
    "    def __init__(self,r,p):\n",
    "        self.r=r\n",
    "        self.p=p\n",
    "        \n",
    "    @staticmethod\n",
    "    def hello():          # for static method dont need for self or class reference\n",
    "        print(\"static method is called\")\n",
    "        \n",
    "        \n",
    "c=circle(4,3.14)\n",
    "circle.hello()"
   ]
  },
  {
   "cell_type": "code",
   "execution_count": 57,
   "metadata": {},
   "outputs": [
    {
     "name": "stdout",
     "output_type": "stream",
     "text": [
      "Brand name is Lenevo and model num thinkpad e 560 and price is 500\n",
      "500\n"
     ]
    }
   ],
   "source": [
    "# getter and setter method\n",
    "\n",
    "class Laptop:\n",
    "    def __init__(self,name,model,color,price):\n",
    "        self.name=name\n",
    "        self.model=model\n",
    "        self.color=color\n",
    "        self.price=price\n",
    "    \n",
    "    @property\n",
    "    def details(self):  #Instance method\n",
    "        return f\"Brand name is {self.name} and model num {self.model} and price is {self.price}\"\n",
    "        \n",
    "L1=Laptop(\"Lenevo\",\"thinkpad e 560\",\"Black\",-58000)\n",
    "L1.price=500\n",
    "print(L1.details)\n",
    "\n",
    "print(L1.price)"
   ]
  },
  {
   "cell_type": "code",
   "execution_count": 1,
   "metadata": {},
   "outputs": [
    {
     "data": {
      "text/plain": [
       "10"
      ]
     },
     "execution_count": 1,
     "metadata": {},
     "output_type": "execute_result"
    }
   ],
   "source": [
    "5+5"
   ]
  },
  {
   "cell_type": "code",
   "execution_count": 12,
   "metadata": {},
   "outputs": [
    {
     "name": "stdout",
     "output_type": "stream",
     "text": [
      "Laptop name is Lenevo and model name is Thinkpad\n",
      "Lenevo\n"
     ]
    }
   ],
   "source": [
    "class Laptop:\n",
    "    def __init__(self,name,model):\n",
    "        self.name=name\n",
    "        self.model=model\n",
    "        \n",
    "    def details(self):\n",
    "            return f\"Laptop name is {self.name} and model name is {self.model}\"\n",
    "class Tab(Laptop):\n",
    "    pass\n",
    "t1=Tab(\"Lenevo\",\"Thinkpad\")\n",
    "print(t1.details())\n",
    "print(t1.name)\n",
    "\n",
    "        \n"
   ]
  },
  {
   "cell_type": "code",
   "execution_count": 3,
   "metadata": {},
   "outputs": [
    {
     "name": "stdout",
     "output_type": "stream",
     "text": [
      "Mike Olsen\n"
     ]
    }
   ],
   "source": [
    "class Person:\n",
    "  def __init__(self, fname, lname):\n",
    "    self.firstname = fname\n",
    "    self.lastname = lname\n",
    "\n",
    "  def printname(self):\n",
    "    print(self.firstname, self.lastname)\n",
    "\n",
    "class Student(Person):\n",
    "  pass\n",
    "\n",
    "x = Student(\"Mike\", \"Olsen\")\n",
    "x.printname()"
   ]
  },
  {
   "cell_type": "code",
   "execution_count": 15,
   "metadata": {},
   "outputs": [
    {
     "name": "stdout",
     "output_type": "stream",
     "text": [
      "Mike Olsen\n"
     ]
    }
   ],
   "source": [
    "class Person:\n",
    "  def __init__(self, fname, lname):\n",
    "    self.firstname = fname\n",
    "    self.lastname = lname\n",
    "\n",
    "  def printname(self):\n",
    "    print(self.firstname, self.lastname)\n",
    "\n",
    "class Student(Person):\n",
    "    def __init__(self,fname,lname):\n",
    "         Person.__init__(self, fname, lname)\n",
    "\n",
    "x = Student(\"Mike\", \"Olsen\")\n",
    "x.printname()"
   ]
  },
  {
   "cell_type": "code",
   "execution_count": 16,
   "metadata": {},
   "outputs": [
    {
     "name": "stdout",
     "output_type": "stream",
     "text": [
      "Mike Olsen\n",
      "2019\n"
     ]
    }
   ],
   "source": [
    "# property in child class\n",
    "\n",
    "class Person:\n",
    "  def __init__(self, fname, lname):\n",
    "    self.firstname = fname\n",
    "    self.lastname = lname\n",
    "\n",
    "  def printname(self):\n",
    "    print(self.firstname, self.lastname)\n",
    "\n",
    "class Student(Person):\n",
    "    def __init__(self,fname,lname):\n",
    "         Person.__init__(self, fname, lname)\n",
    "         self.graduationyear=2019\n",
    "\n",
    "x = Student(\"Mike\", \"Olsen\")\n",
    "x.printname()\n",
    "print(x.graduationyear)"
   ]
  },
  {
   "cell_type": "code",
   "execution_count": 23,
   "metadata": {},
   "outputs": [
    {
     "name": "stdout",
     "output_type": "stream",
     "text": [
      "Welcome Mike Olsen to the class of 2019\n"
     ]
    }
   ],
   "source": [
    "# add method in child class\n",
    "\n",
    "class Person:\n",
    "  def __init__(self, fname, lname):\n",
    "    self.firstname = fname\n",
    "    self.lastname = lname\n",
    "\n",
    "  def printname(self):\n",
    "    print(self.firstname, self.lastname)\n",
    "\n",
    "class Student(Person):\n",
    "  def __init__(self, fname, lname, year):\n",
    "    Person.__init__(self, fname, lname)\n",
    "    self.graduationyear = year\n",
    "\n",
    "  def welcome(self):\n",
    "    print(\"Welcome\", self.firstname, self.lastname, \"to the class of\", self.graduationyear)\n",
    "\n",
    "x = Student(\"Mike\", \"Olsen\", 2019)\n",
    "x.welcome()"
   ]
  },
  {
   "cell_type": "code",
   "execution_count": null,
   "metadata": {},
   "outputs": [],
   "source": []
  }
 ],
 "metadata": {
  "kernelspec": {
   "display_name": "Python 3",
   "language": "python",
   "name": "python3"
  },
  "language_info": {
   "codemirror_mode": {
    "name": "ipython",
    "version": 3
   },
   "file_extension": ".py",
   "mimetype": "text/x-python",
   "name": "python",
   "nbconvert_exporter": "python",
   "pygments_lexer": "ipython3",
   "version": "3.7.3"
  }
 },
 "nbformat": 4,
 "nbformat_minor": 2
}
